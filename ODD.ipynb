{
  "nbformat": 4,
  "nbformat_minor": 0,
  "metadata": {
    "colab": {
      "provenance": [],
      "mount_file_id": "14fJs3ePscTgcfwVVQqLzDpX9dKwGC8Kg",
      "authorship_tag": "ABX9TyP6zujVtaaSotwFWHPKzLB0",
      "include_colab_link": true
    },
    "kernelspec": {
      "name": "python3",
      "display_name": "Python 3"
    },
    "language_info": {
      "name": "python"
    }
  },
  "cells": [
    {
      "cell_type": "markdown",
      "metadata": {
        "id": "view-in-github",
        "colab_type": "text"
      },
      "source": [
        "<a href=\"https://colab.research.google.com/github/mansi1045/DOLABEXAM-ODD/blob/main/ODD.ipynb\" target=\"_parent\"><img src=\"https://colab.research.google.com/assets/colab-badge.svg\" alt=\"Open In Colab\"/></a>"
      ]
    },
    {
      "cell_type": "code",
      "source": [
        "import pandas as pd\n",
        "df = pd.read_excel(\"/content/Untitled spreadsheet.xlsx\")"
      ],
      "metadata": {
        "id": "lTf3WGaaJ08l"
      },
      "execution_count": 7,
      "outputs": []
    },
    {
      "cell_type": "code",
      "source": [
        "print(\"Column Names:\", df.columns.tolist())"
      ],
      "metadata": {
        "colab": {
          "base_uri": "https://localhost:8080/"
        },
        "id": "wRMrAIDTQlIe",
        "outputId": "723dc5d9-77d9-4c14-92ad-dc68138079d0"
      },
      "execution_count": 8,
      "outputs": [
        {
          "output_type": "stream",
          "name": "stdout",
          "text": [
            "Column Names: ['Booking_ID', 'Customer_ID', 'Destination', 'Travel_Dates', 'Booking_Date', 'Number_of_Travelers', 'Travel_Package', 'Payment_Method', 'Total_Cost', 'Travel_Agent', 'Customer_Feedback']\n"
          ]
        }
      ]
    },
    {
      "cell_type": "code",
      "source": [
        "df.columns = df.columns.str.strip()"
      ],
      "metadata": {
        "id": "SpBY-IjQQqy-"
      },
      "execution_count": 10,
      "outputs": []
    },
    {
      "cell_type": "code",
      "source": [
        "avg_cost_per_package = df.groupby(\"Travel_Package\")[\"Total_Cost\"].mean()\n",
        "print(\"\\nAverage Total Cost per Travel Package:\")\n",
        "print(avg_cost_per_package)"
      ],
      "metadata": {
        "colab": {
          "base_uri": "https://localhost:8080/"
        },
        "id": "-vgjEuJ3Qu_f",
        "outputId": "b9f3b24e-f9e9-42cc-a0a0-ef24249a47d0"
      },
      "execution_count": 11,
      "outputs": [
        {
          "output_type": "stream",
          "name": "stdout",
          "text": [
            "\n",
            "Average Total Cost per Travel Package:\n",
            "Travel_Package\n",
            "Luxury      53732.465158\n",
            "Premium     51603.118568\n",
            "Standard    52588.036084\n",
            "Name: Total_Cost, dtype: float64\n"
          ]
        }
      ]
    },
    {
      "cell_type": "code",
      "source": [
        "df[\"Travel_Dates\"] = pd.to_datetime(df[\"Travel_Dates\"], errors=\"coerce\")\n",
        "earliest_travel_date = df[\"Travel_Dates\"].min()\n",
        "latest_travel_date = df[\"Travel_Dates\"].max()\n",
        "print(\"\\nEarliest Travel Date:\", earliest_travel_date)\n",
        "print(\"Latest Travel Date:\", latest_travel_date)"
      ],
      "metadata": {
        "colab": {
          "base_uri": "https://localhost:8080/"
        },
        "id": "eFothqUcQ034",
        "outputId": "5093d1e3-88e3-4ed9-982a-ffd3a8933776"
      },
      "execution_count": 16,
      "outputs": [
        {
          "output_type": "stream",
          "name": "stdout",
          "text": [
            "\n",
            "Earliest Travel Date: 2023-08-20 20:25:00-02:00\n",
            "Latest Travel Date: 2024-08-16 20:25:00-02:00\n"
          ]
        }
      ]
    },
    {
      "cell_type": "code",
      "source": [
        "unique_destinations = df[\"Destination\"].nunique()\n",
        "print(\"\\nNumber of Unique Destinations:\", unique_destinations)"
      ],
      "metadata": {
        "colab": {
          "base_uri": "https://localhost:8080/"
        },
        "id": "--9jEWLVQ9CF",
        "outputId": "732e9d59-1526-41ce-b067-a5207289da23"
      },
      "execution_count": 13,
      "outputs": [
        {
          "output_type": "stream",
          "name": "stdout",
          "text": [
            "\n",
            "Number of Unique Destinations: 858\n"
          ]
        }
      ]
    },
    {
      "cell_type": "code",
      "source": [
        "range1 = str(earliest_travel_date.date()) + \" to \" + str(latest_travel_date.date())\n",
        "print(\"\\nDate Range:\", range1)"
      ],
      "metadata": {
        "colab": {
          "base_uri": "https://localhost:8080/"
        },
        "id": "cDZX0RgSRJeJ",
        "outputId": "15ce710b-95a7-4812-ce47-550310cd63b5"
      },
      "execution_count": 17,
      "outputs": [
        {
          "output_type": "stream",
          "name": "stdout",
          "text": [
            "\n",
            "Date Range: 2023-08-20 to 2024-08-16\n"
          ]
        }
      ]
    },
    {
      "cell_type": "code",
      "source": [
        "date_formats_consistent = df[\"Travel_Dates\"].notna().all()\n",
        "print(\"\\nDate Format Consistency:\", date_formats_consistent)"
      ],
      "metadata": {
        "colab": {
          "base_uri": "https://localhost:8080/"
        },
        "id": "g-G788kWRMmy",
        "outputId": "19dfd941-dbab-4596-ee95-fb41c1060f36"
      },
      "execution_count": 15,
      "outputs": [
        {
          "output_type": "stream",
          "name": "stdout",
          "text": [
            "\n",
            "Date Format Consistency: False\n"
          ]
        }
      ]
    }
  ]
}